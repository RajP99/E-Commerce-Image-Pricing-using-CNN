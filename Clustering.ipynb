{
 "cells": [
  {
   "cell_type": "code",
   "execution_count": 1,
   "metadata": {},
   "outputs": [],
   "source": [
    "import pandas as pd\n",
    "import numpy as np\n",
    "import re\n",
    "import nltk\n",
    "from string import punctuation\n",
    "from nltk.corpus import stopwords\n",
    "english_stopwords = set(stopwords.words('english'))\n",
    "from sklearn.feature_extraction import text\n",
    "from sklearn.feature_extraction.text import TfidfVectorizer\n",
    "from sklearn.cluster import KMeans\n",
    "from sklearn.metrics import silhouette_samples, silhouette_score\n",
    "from nltk.tokenize import RegexpTokenizer\n",
    "from nltk.stem.snowball import SnowballStemmer\n",
    "import matplotlib.pyplot as plt\n",
    "import seaborn as sns"
   ]
  },
  {
   "cell_type": "markdown",
   "metadata": {},
   "source": [
    "# Data Preprocessing/Cleaning"
   ]
  },
  {
   "cell_type": "code",
   "execution_count": 2,
   "metadata": {},
   "outputs": [],
   "source": [
    "df = pd.read_csv(\"Headlines.txt\", engine=\"python\", header=None, sep='\\n')"
   ]
  },
  {
   "cell_type": "code",
   "execution_count": 3,
   "metadata": {},
   "outputs": [
    {
     "data": {
      "text/html": [
       "<div>\n",
       "<style scoped>\n",
       "    .dataframe tbody tr th:only-of-type {\n",
       "        vertical-align: middle;\n",
       "    }\n",
       "\n",
       "    .dataframe tbody tr th {\n",
       "        vertical-align: top;\n",
       "    }\n",
       "\n",
       "    .dataframe thead th {\n",
       "        text-align: right;\n",
       "    }\n",
       "</style>\n",
       "<table border=\"1\" class=\"dataframe\">\n",
       "  <thead>\n",
       "    <tr style=\"text-align: right;\">\n",
       "      <th></th>\n",
       "      <th>0</th>\n",
       "    </tr>\n",
       "  </thead>\n",
       "  <tbody>\n",
       "    <tr>\n",
       "      <th>0</th>\n",
       "      <td>Hydrogen has a major role to play in the clean...</td>\n",
       "    </tr>\n",
       "    <tr>\n",
       "      <th>1</th>\n",
       "      <td>Students, doctors, children: Ukrainian airline...</td>\n",
       "    </tr>\n",
       "    <tr>\n",
       "      <th>2</th>\n",
       "      <td>Poloz warns ‘froth’ could return to Canada’s h...</td>\n",
       "    </tr>\n",
       "    <tr>\n",
       "      <th>3</th>\n",
       "      <td>Canadian dollar seen losing upside momentum ov...</td>\n",
       "    </tr>\n",
       "    <tr>\n",
       "      <th>4</th>\n",
       "      <td>Sex worker Jamie Lee Hamilton sounded the alar...</td>\n",
       "    </tr>\n",
       "  </tbody>\n",
       "</table>\n",
       "</div>"
      ],
      "text/plain": [
       "                                                   0\n",
       "0  Hydrogen has a major role to play in the clean...\n",
       "1  Students, doctors, children: Ukrainian airline...\n",
       "2  Poloz warns ‘froth’ could return to Canada’s h...\n",
       "3  Canadian dollar seen losing upside momentum ov...\n",
       "4  Sex worker Jamie Lee Hamilton sounded the alar..."
      ]
     },
     "execution_count": 3,
     "metadata": {},
     "output_type": "execute_result"
    }
   ],
   "source": [
    "df.head()"
   ]
  },
  {
   "cell_type": "code",
   "execution_count": 4,
   "metadata": {},
   "outputs": [
    {
     "name": "stdout",
     "output_type": "stream",
     "text": [
      "320\n"
     ]
    }
   ],
   "source": [
    "print(len(df))"
   ]
  },
  {
   "cell_type": "code",
   "execution_count": 5,
   "metadata": {},
   "outputs": [
    {
     "data": {
      "text/html": [
       "<div>\n",
       "<style scoped>\n",
       "    .dataframe tbody tr th:only-of-type {\n",
       "        vertical-align: middle;\n",
       "    }\n",
       "\n",
       "    .dataframe tbody tr th {\n",
       "        vertical-align: top;\n",
       "    }\n",
       "\n",
       "    .dataframe thead th {\n",
       "        text-align: right;\n",
       "    }\n",
       "</style>\n",
       "<table border=\"1\" class=\"dataframe\">\n",
       "  <thead>\n",
       "    <tr style=\"text-align: right;\">\n",
       "      <th></th>\n",
       "      <th>Headline</th>\n",
       "    </tr>\n",
       "  </thead>\n",
       "  <tbody>\n",
       "    <tr>\n",
       "      <th>0</th>\n",
       "      <td>Hydrogen has a major role to play in the clean...</td>\n",
       "    </tr>\n",
       "    <tr>\n",
       "      <th>1</th>\n",
       "      <td>Students, doctors, children: Ukrainian airline...</td>\n",
       "    </tr>\n",
       "    <tr>\n",
       "      <th>2</th>\n",
       "      <td>Poloz warns ‘froth’ could return to Canada’s h...</td>\n",
       "    </tr>\n",
       "    <tr>\n",
       "      <th>3</th>\n",
       "      <td>Canadian dollar seen losing upside momentum ov...</td>\n",
       "    </tr>\n",
       "    <tr>\n",
       "      <th>4</th>\n",
       "      <td>Sex worker Jamie Lee Hamilton sounded the alar...</td>\n",
       "    </tr>\n",
       "  </tbody>\n",
       "</table>\n",
       "</div>"
      ],
      "text/plain": [
       "                                            Headline\n",
       "0  Hydrogen has a major role to play in the clean...\n",
       "1  Students, doctors, children: Ukrainian airline...\n",
       "2  Poloz warns ‘froth’ could return to Canada’s h...\n",
       "3  Canadian dollar seen losing upside momentum ov...\n",
       "4  Sex worker Jamie Lee Hamilton sounded the alar..."
      ]
     },
     "execution_count": 5,
     "metadata": {},
     "output_type": "execute_result"
    }
   ],
   "source": [
    "df.columns = ['Headline']\n",
    "df.head()"
   ]
  },
  {
   "cell_type": "code",
   "execution_count": 6,
   "metadata": {},
   "outputs": [],
   "source": [
    "#Convert to lowercase, remove bad characters, and stopwords\n",
    "def clean_text(text):\n",
    "    text = text.lower()\n",
    "    text = re.sub('/()\\[\\]{}@\\$,;\\'', '', text)\n",
    "    text = re.sub('[^0-9a-z #+_]', '', text)\n",
    "    text = ' '.join(word for word in text.split() if word not in english_stopwords)    \n",
    "    \n",
    "    return text"
   ]
  },
  {
   "cell_type": "code",
   "execution_count": 7,
   "metadata": {},
   "outputs": [],
   "source": [
    "df['Headline'] = df['Headline'].apply(clean_text)"
   ]
  },
  {
   "cell_type": "code",
   "execution_count": 8,
   "metadata": {},
   "outputs": [
    {
     "data": {
      "text/html": [
       "<div>\n",
       "<style scoped>\n",
       "    .dataframe tbody tr th:only-of-type {\n",
       "        vertical-align: middle;\n",
       "    }\n",
       "\n",
       "    .dataframe tbody tr th {\n",
       "        vertical-align: top;\n",
       "    }\n",
       "\n",
       "    .dataframe thead th {\n",
       "        text-align: right;\n",
       "    }\n",
       "</style>\n",
       "<table border=\"1\" class=\"dataframe\">\n",
       "  <thead>\n",
       "    <tr style=\"text-align: right;\">\n",
       "      <th></th>\n",
       "      <th>Headline</th>\n",
       "    </tr>\n",
       "  </thead>\n",
       "  <tbody>\n",
       "    <tr>\n",
       "      <th>0</th>\n",
       "      <td>hydrogen major role play cleanenergy future pr...</td>\n",
       "    </tr>\n",
       "    <tr>\n",
       "      <th>1</th>\n",
       "      <td>students doctors children ukrainian airliner c...</td>\n",
       "    </tr>\n",
       "    <tr>\n",
       "      <th>2</th>\n",
       "      <td>poloz warns froth could return canadas housing...</td>\n",
       "    </tr>\n",
       "    <tr>\n",
       "      <th>3</th>\n",
       "      <td>canadian dollar seen losing upside momentum co...</td>\n",
       "    </tr>\n",
       "    <tr>\n",
       "      <th>4</th>\n",
       "      <td>sex worker jamie lee hamilton sounded alarm va...</td>\n",
       "    </tr>\n",
       "  </tbody>\n",
       "</table>\n",
       "</div>"
      ],
      "text/plain": [
       "                                            Headline\n",
       "0  hydrogen major role play cleanenergy future pr...\n",
       "1  students doctors children ukrainian airliner c...\n",
       "2  poloz warns froth could return canadas housing...\n",
       "3  canadian dollar seen losing upside momentum co...\n",
       "4  sex worker jamie lee hamilton sounded alarm va..."
      ]
     },
     "execution_count": 8,
     "metadata": {},
     "output_type": "execute_result"
    }
   ],
   "source": [
    "df.head()"
   ]
  },
  {
   "cell_type": "code",
   "execution_count": 9,
   "metadata": {},
   "outputs": [],
   "source": [
    "def tokenize(text):\n",
    "    stemmer = SnowballStemmer('english')    \n",
    "    tokenizer = RegexpTokenizer(r'[a-zA-Z\\']+')\n",
    "    return [stemmer.stem(word) for word in tokenizer.tokenize(text.lower())]"
   ]
  },
  {
   "cell_type": "code",
   "execution_count": 10,
   "metadata": {},
   "outputs": [],
   "source": [
    "def prepare_data(headlines):\n",
    "    vectorizer = TfidfVectorizer(tokenizer=tokenize)\n",
    "    X = vectorizer.fit_transform(headlines)\n",
    "    words = vectorizer.get_feature_names()\n",
    "    \n",
    "    return X, words"
   ]
  },
  {
   "cell_type": "code",
   "execution_count": 11,
   "metadata": {},
   "outputs": [],
   "source": [
    "X, words = prepare_data(df['Headline'].values)"
   ]
  },
  {
   "cell_type": "markdown",
   "metadata": {},
   "source": [
    "# Clustering Model"
   ]
  },
  {
   "cell_type": "code",
   "execution_count": 12,
   "metadata": {},
   "outputs": [
    {
     "name": "stderr",
     "output_type": "stream",
     "text": [
      "C:\\Users\\rajpa\\Anaconda3\\lib\\site-packages\\sklearn\\cluster\\k_means_.py:969: ConvergenceWarning: Number of distinct clusters (295) found smaller than n_clusters (302). Possibly due to duplicate points in X.\n",
      "  return_n_iter=True)\n"
     ]
    },
    {
     "data": {
      "image/png": "[encoded data removed]",
      "text/plain": [
       "<Figure size 432x288 with 1 Axes>"
      ]
     },
     "metadata": {
      "needs_background": "light"
     },
     "output_type": "display_data"
    }
   ],
   "source": [
    "#Elbow method to determine optimal number of clusters\n",
    "distortions =[] \n",
    "for i in range(2, 310, 10): \n",
    "    km = KMeans(n_clusters = i) \n",
    "    km.fit(X) \n",
    "\n",
    "    distortions.append(km.inertia_)\n",
    "    \n",
    "plt.plot(range(2, 310, 10), distortions, marker='o')\n",
    "plt.xlabel('Number of clusters')\n",
    "plt.show()"
   ]
  },
  {
   "cell_type": "markdown",
   "metadata": {},
   "source": [
    "Using the elbow method, the optimal number of clusters is 295"
   ]
  },
  {
   "cell_type": "code",
   "execution_count": 13,
   "metadata": {},
   "outputs": [
    {
     "name": "stderr",
     "output_type": "stream",
     "text": [
      "C:\\Users\\rajpa\\Anaconda3\\lib\\site-packages\\sklearn\\cluster\\k_means_.py:969: ConvergenceWarning: Number of distinct clusters (295) found smaller than n_clusters (302). Possibly due to duplicate points in X.\n",
      "  return_n_iter=True)\n"
     ]
    },
    {
     "data": {
      "image/png": "[encoded data removed]",
      "text/plain": [
       "<Figure size 432x288 with 1 Axes>"
      ]
     },
     "metadata": {
      "needs_background": "light"
     },
     "output_type": "display_data"
    }
   ],
   "source": [
    "score =[] \n",
    "for i in range(2, 310, 10): \n",
    "    km = KMeans(n_clusters = i) \n",
    "    preds = km.fit_predict(X)\n",
    "    \n",
    "    score.append(silhouette_score(X, preds, metric='euclidean'))\n",
    "    \n",
    "plt.plot(range(2, 310, 10), score, marker='o')\n",
    "plt.xlabel('Number of clusters')\n",
    "plt.show()"
   ]
  },
  {
   "cell_type": "markdown",
   "metadata": {},
   "source": [
    "Using the silhouette method, the optimal number of clusters is also 295"
   ]
  },
  {
   "cell_type": "markdown",
   "metadata": {},
   "source": [
    "Using only 10 clusters because 295 is too much to analyze and will not help to understand the trending topics"
   ]
  },
  {
   "cell_type": "code",
   "execution_count": 17,
   "metadata": {},
   "outputs": [],
   "source": [
    "kmeans = KMeans(n_clusters = 15).fit(X)"
   ]
  },
  {
   "cell_type": "markdown",
   "metadata": {},
   "source": [
    "# Model Analysis"
   ]
  },
  {
   "cell_type": "code",
   "execution_count": 18,
   "metadata": {},
   "outputs": [
    {
     "name": "stdout",
     "output_type": "stream",
     "text": [
      "0 : canadian, vancouv, new, plan, assault, charg, trial, alberta, hostag, sexual\n",
      "1 : shot, missil, jet, ukrainian, evid, say, trudeau, like, iran, offici\n",
      "2 : ontario, strike, teacher, rotat, elementari, cost, farm, card, date, redandwhit\n",
      "3 : canada, trudeau, flight, crash, iran, plane, investig, passeng, place, head\n",
      "4 : quebec, tori, emerg, potenti, hope, leadership, poll, sure, hotspot, leader\n",
      "5 : court, year, case, rule, canadian, regain, russian, bill, address, wetsuweten\n",
      "6 : win, lotto, ticket, us, max, m, open, sold, first, canada\n",
      "7 : say, trudeau, video, connect, pm, iran, crash, missil, canada, plane\n",
      "8 : polic, bc, shoot, ottawa, rcmp, fatal, dead, indigen, one, say\n",
      "9 : conserv, leadership, gladu, run, marilyn, mp, candid, parti, report, new\n",
      "10 : trump, support, home, scene, anger, alon, canada, survey, cut, shame\n",
      "11 : name, group, law, build, prevent, offend, saskatchewan, chang, sex, slaveri\n",
      "12 : meghan, harri, holiday, thank, royal, move, princ, canada, christma, roamer\n",
      "13 : iraq, cut, troop, suleimani, number, germani, kill, move, mission, nato\n",
      "14 : crash, iran, plane, victim, kill, canadian, know, mani, vigil, mourn\n"
     ]
    }
   ],
   "source": [
    "#Print the 10 most common words in each cluster\n",
    "common_words = kmeans.cluster_centers_.argsort()[:,-1:-11:-1]\n",
    "for num, centroid in enumerate(common_words):\n",
    "    print(str(num) + ' : ' + ', '.join(words[word] for word in centroid))"
   ]
  },
  {
   "cell_type": "markdown",
   "metadata": {},
   "source": [
    "Cluster 0: Assault related case in Vancouver <br>\n",
    "Cluster 1: Ukraine plane strikes over Iran <br>\n",
    "Cluster 2: Ontario schhol strike articles <br>\n",
    "Cluster 3: More Ukraine plane articles <br>\n",
    "Cluster 4: Quebec political articles <br>\n",
    "Cluster 5: Judiciary articles <br>\n",
    "Cluster 6: Lottery articles <br>\n",
    "Cluster 7: Trudeau Iran articles <br>\n",
    "Cluster 8: Police shooting articles  <br>\n",
    "Cluster 9: Political articles <br>\n",
    "Cluster 10: Trump budget cuts articles <br>\n",
    "Cluster 11: ? <br>\n",
    "Cluster 12: Royal family articles <br>\n",
    "Cluster 13: Iraq war articles <br>\n",
    "Cluster 14: Iranian plane articles <br>"
   ]
  },
  {
   "cell_type": "code",
   "execution_count": 20,
   "metadata": {},
   "outputs": [
    {
     "data": {
      "image/png": "[encoded data removed]",
      "text/plain": [
       "<Figure size 432x288 with 1 Axes>"
      ]
     },
     "metadata": {
      "needs_background": "light"
     },
     "output_type": "display_data"
    }
   ],
   "source": [
    "#Plot number of headlines in each cluster\n",
    "sns.countplot(x=kmeans.labels_)\n",
    "plt.show()"
   ]
  }
 ],
 "metadata": {
  "kernelspec": {
   "display_name": "Python 3",
   "language": "python",
   "name": "python3"
  },
  "language_info": {
   "codemirror_mode": {
    "name": "ipython",
    "version": 3
   },
   "file_extension": ".py",
   "mimetype": "text/x-python",
   "name": "python",
   "nbconvert_exporter": "python",
   "pygments_lexer": "ipython3",
   "version": "3.7.3"
  }
 },
 "nbformat": 4,
 "nbformat_minor": 2
}
