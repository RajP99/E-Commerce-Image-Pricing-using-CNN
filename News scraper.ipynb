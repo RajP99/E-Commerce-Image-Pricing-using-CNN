{
 "cells": [
  {
   "cell_type": "code",
   "execution_count": 1,
   "metadata": {},
   "outputs": [],
   "source": [
    "import urllib.request\n",
    "from bs4 import BeautifulSoup\n",
    "import re"
   ]
  },
  {
   "cell_type": "code",
   "execution_count": 2,
   "metadata": {},
   "outputs": [],
   "source": [
    "websites = [\"https://www.theglobeandmail.com/canada/\", \"https://www.cbc.ca/news/canada\", \"https://globalnews.ca/canada/\", \"https://nationalpost.com/category/news/canada\", \"https://www.thestar.com/news/canada.html\", \"https://www.ctvnews.ca/canada\", \"https://torontosun.com/category/news/national\", \"https://www.theguardian.com/world/canada\", \"https://www.bnnbloomberg.ca/canada\"]"
   ]
  },
  {
   "cell_type": "code",
   "execution_count": 3,
   "metadata": {},
   "outputs": [],
   "source": [
    "def create_data(websites):\n",
    "    get_globe_headlines(websites[0])\n",
    "    get_cbc_headlines(websites[1])\n",
    "    get_global_news_headlines(websites[2])\n",
    "    get_nationalpost_headlines(websites[3])\n",
    "    get_star_headlines(websites[4])\n",
    "    get_ctv_headlines(websites[5])\n",
    "    get_sun_headlines(websites[6])\n",
    "    get_guardian_headlines(websites[7])\n",
    "    get_bloomberg_headlines(websites[8])"
   ]
  },
  {
   "cell_type": "code",
   "execution_count": 14,
   "metadata": {},
   "outputs": [
    {
     "name": "stdout",
     "output_type": "stream",
     "text": [
      "Wrote 42 headlines to Headlines.txt\n",
      "Wrote 34 headlines to Headlines.txt\n",
      "Wrote 22 headlines to Headlines.txt\n",
      "Wrote 45 headlines to Headlines.txt\n",
      "Wrote 42 headlines to Headlines.txt\n",
      "Wrote 27 headlines to Headlines.txt\n",
      "Wrote 41 headlines to Headlines.txt\n",
      "Wrote 40 headlines to Headlines.txt\n",
      "Wrote 44 headlines to Headlines.txt\n"
     ]
    }
   ],
   "source": [
    "create_data(websites)"
   ]
  },
  {
   "cell_type": "code",
   "execution_count": 5,
   "metadata": {},
   "outputs": [],
   "source": [
    "def get_globe_headlines(website):\n",
    "    \n",
    "    html = urllib.request.urlopen(website).read()\n",
    "    soup = BeautifulSoup(html, \"html.parser\")\n",
    "        \n",
    "    headlines = soup.find_all(\"div\", {\"class\": \"c-card__hed-text\"})\n",
    "        \n",
    "    file = open(\"Headlines.txt\", \"w\")\n",
    "    for headline in headlines:\n",
    "        file.write(headline.get_text() + \"\\n\")\n",
    "    file.close()\n",
    "        \n",
    "    print(\"Wrote \" + str(len(headlines)) + \" headlines to Headlines.txt\")"
   ]
  },
  {
   "cell_type": "code",
   "execution_count": 6,
   "metadata": {},
   "outputs": [],
   "source": [
    "def get_cbc_headlines(website):\n",
    "    \n",
    "    html = urllib.request.urlopen(website).read()\n",
    "    soup = BeautifulSoup(html, \"html.parser\")\n",
    "\n",
    "    headlines = soup.find_all(\"h3\", {\"class\": \"headline\"})\n",
    "        \n",
    "    file = open(\"Headlines.txt\", \"a\")\n",
    "    for headline in headlines:\n",
    "        file.write(headline.get_text() + \"\\n\")\n",
    "    file.close()\n",
    "        \n",
    "    print(\"Wrote \" + str(len(headlines)) + \" headlines to Headlines.txt\")"
   ]
  },
  {
   "cell_type": "code",
   "execution_count": 7,
   "metadata": {},
   "outputs": [],
   "source": [
    "def get_global_news_headlines(website):\n",
    "    \n",
    "    html = urllib.request.urlopen(website).read()\n",
    "    soup = BeautifulSoup(html, \"html.parser\")\n",
    "\n",
    "    headlines = soup.find_all(\"h3\", {\"class\": \"story-h\"})\n",
    "        \n",
    "    file = open(\"Headlines.txt\", \"a\")\n",
    "    for headline in headlines:\n",
    "        file.write(headline.get_text() + \"\\n\")\n",
    "    file.close()\n",
    "        \n",
    "    print(\"Wrote \" + str(len(headlines)) + \" headlines to Headlines.txt\")"
   ]
  },
  {
   "cell_type": "code",
   "execution_count": 8,
   "metadata": {},
   "outputs": [],
   "source": [
    "def get_nationalpost_headlines(website):\n",
    "    \n",
    "    html = urllib.request.urlopen(website).read()\n",
    "    soup = BeautifulSoup(html, \"html.parser\")\n",
    "\n",
    "    headlines = soup.find_all(\"h4\", {\"class\": \"entry-title\"})\n",
    "        \n",
    "    file = open(\"Headlines.txt\", \"a\")\n",
    "    for headline in headlines:\n",
    "        file.write(headline.get_text() + \"\\n\")\n",
    "    file.close()\n",
    "        \n",
    "    print(\"Wrote \" + str(len(headlines)) + \" headlines to Headlines.txt\")"
   ]
  },
  {
   "cell_type": "code",
   "execution_count": 9,
   "metadata": {},
   "outputs": [],
   "source": [
    "def get_star_headlines(website):\n",
    "    \n",
    "    html = urllib.request.urlopen(website).read()\n",
    "    soup = BeautifulSoup(html, \"html.parser\")\n",
    "\n",
    "    headlines = soup.find_all(\"span\", {\"class\": \"story__headline\"})\n",
    "        \n",
    "    file = open(\"Headlines.txt\", \"a\")\n",
    "    for headline in headlines:\n",
    "        file.write(headline.get_text() + \"\\n\")\n",
    "    file.close()\n",
    "        \n",
    "    print(\"Wrote \" + str(len(headlines)) + \" headlines to Headlines.txt\")"
   ]
  },
  {
   "cell_type": "code",
   "execution_count": 10,
   "metadata": {},
   "outputs": [],
   "source": [
    "def get_ctv_headlines(website):\n",
    "    \n",
    "    html = urllib.request.urlopen(website).read()\n",
    "    soup = BeautifulSoup(html, \"html.parser\")\n",
    "\n",
    "    headlines = soup.find_all(\"h2\", {\"class\": \"teaserTitle\"})\n",
    "        \n",
    "    file = open(\"Headlines.txt\", \"a\")\n",
    "    for headline in headlines:\n",
    "        file.write(headline.get_text() + \"\\n\")\n",
    "    file.close()\n",
    "        \n",
    "    print(\"Wrote \" + str(len(headlines)) + \" headlines to Headlines.txt\")"
   ]
  },
  {
   "cell_type": "code",
   "execution_count": 11,
   "metadata": {},
   "outputs": [],
   "source": [
    "def get_sun_headlines(website):\n",
    "    \n",
    "    html = urllib.request.urlopen(website).read()\n",
    "    soup = BeautifulSoup(html, \"html.parser\")\n",
    "\n",
    "    headlines = soup.find_all(\"a\", {\"itemprop\": \"url\"})\n",
    "        \n",
    "    file = open(\"Headlines.txt\", \"a\")\n",
    "    for headline in headlines:\n",
    "        file.write(headline.get_text() + \"\\n\")\n",
    "    file.close()\n",
    "        \n",
    "    print(\"Wrote \" + str(len(headlines)) + \" headlines to Headlines.txt\")"
   ]
  },
  {
   "cell_type": "code",
   "execution_count": 12,
   "metadata": {},
   "outputs": [],
   "source": [
    "def get_guardian_headlines(website):\n",
    "    \n",
    "    html = urllib.request.urlopen(website).read()\n",
    "    soup = BeautifulSoup(html, \"html.parser\")\n",
    "\n",
    "    headlines = soup.find_all(\"a\", {\"data-link-name\": \"article\"})\n",
    "        \n",
    "    file = open(\"Headlines.txt\", \"a\")\n",
    "    for headline in headlines:\n",
    "        file.write(headline.get_text() + \"\\n\")\n",
    "    file.close()\n",
    "        \n",
    "    print(\"Wrote \" + str(len(headlines)) + \" headlines to Headlines.txt\")"
   ]
  },
  {
   "cell_type": "code",
   "execution_count": 13,
   "metadata": {},
   "outputs": [],
   "source": [
    "def get_bloomberg_headlines(website):\n",
    "    \n",
    "    html = urllib.request.urlopen(website).read()\n",
    "    soup = BeautifulSoup(html, \"html.parser\")\n",
    "\n",
    "    headlines = soup.find_all(\"h3\")\n",
    "        \n",
    "    file = open(\"Headlines.txt\", \"a\", encoding='utf-8')\n",
    "    for headline in headlines:\n",
    "        file.write(headline.get_text() + \"\\n\")\n",
    "    file.close()\n",
    "        \n",
    "    print(\"Wrote \" + str(len(headlines)) + \" headlines to Headlines.txt\")"
   ]
  }
 ],
 "metadata": {
  "kernelspec": {
   "display_name": "Python 3",
   "language": "python",
   "name": "python3"
  },
  "language_info": {
   "codemirror_mode": {
    "name": "ipython",
    "version": 3
   },
   "file_extension": ".py",
   "mimetype": "text/x-python",
   "name": "python",
   "nbconvert_exporter": "python",
   "pygments_lexer": "ipython3",
   "version": "3.7.3"
  }
 },
 "nbformat": 4,
 "nbformat_minor": 2
}
